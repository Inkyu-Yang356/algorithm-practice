{
 "cells": [
  {
   "cell_type": "code",
   "execution_count": 2,
   "id": "cb369307",
   "metadata": {},
   "outputs": [],
   "source": [
    "def factorial(n, sum=1):\n",
    "    if n <= 0:\n",
    "        return sum\n",
    "    sum = sum * n\n",
    "    return factorial(n-1, sum)"
   ]
  },
  {
   "cell_type": "code",
   "execution_count": 3,
   "id": "9745d73b",
   "metadata": {},
   "outputs": [],
   "source": [
    "def factorial_1(n):\n",
    "    if n <= 1:\n",
    "        return 1\n",
    "    return n * factorial_1(n-1)"
   ]
  },
  {
   "cell_type": "code",
   "execution_count": 4,
   "id": "baade9bc",
   "metadata": {},
   "outputs": [
    {
     "name": "stdout",
     "output_type": "stream",
     "text": [
      "120\n",
      "120\n"
     ]
    }
   ],
   "source": [
    "print(factorial(5))\n",
    "print(factorial_1(5))"
   ]
  },
  {
   "cell_type": "code",
   "execution_count": 5,
   "id": "a507859e",
   "metadata": {},
   "outputs": [
    {
     "name": "stdout",
     "output_type": "stream",
     "text": [
      "55\n"
     ]
    }
   ],
   "source": [
    "a = int(input())\n",
    "\n",
    "def sum_n(n):\n",
    "    if n <= 0:\n",
    "        return 0\n",
    "    return n + sum_n(n-1)\n",
    "\n",
    "print(sum_n(a))"
   ]
  },
  {
   "cell_type": "code",
   "execution_count": 13,
   "id": "e6a0559d",
   "metadata": {},
   "outputs": [
    {
     "name": "stdout",
     "output_type": "stream",
     "text": [
      "a | b\n",
      "30 | 12\n",
      "12 | 6\n",
      "6 | 0\n",
      "Result: 6\n"
     ]
    }
   ],
   "source": [
    "a, b = map(int, input().split())\n",
    "print(\"a | b\")\n",
    "def gcd(a, b):\n",
    "    print(a, '|', b)\n",
    "    if b == 0:\n",
    "        return a\n",
    "    if a < b:\n",
    "        return gcd(b, a)\n",
    "    else:\n",
    "        return gcd(b, a % b)\n",
    "    \n",
    "print('Result:', gcd(a, b))"
   ]
  },
  {
   "cell_type": "markdown",
   "id": "2f663a48",
   "metadata": {},
   "source": [
    "#### Baekjoon 1000"
   ]
  },
  {
   "cell_type": "code",
   "execution_count": null,
   "id": "b30c36fd",
   "metadata": {},
   "outputs": [],
   "source": [
    "a, b = map(int, input().split())\n",
    "print(a+b)"
   ]
  },
  {
   "cell_type": "markdown",
   "id": "c98f9231",
   "metadata": {},
   "source": [
    "#### Baekjoon 10807"
   ]
  },
  {
   "cell_type": "code",
   "execution_count": 27,
   "id": "c73a2328",
   "metadata": {},
   "outputs": [
    {
     "name": "stdout",
     "output_type": "stream",
     "text": [
      "2\n"
     ]
    }
   ],
   "source": [
    "n = int(input())\n",
    "l = list(map(int, input().split()))\n",
    "s = int(input())\n",
    "\n",
    "count = 0\n",
    "for i in l:\n",
    "    if i == s:\n",
    "        count += 1\n",
    "print(count)"
   ]
  },
  {
   "cell_type": "markdown",
   "id": "a5d605b9",
   "metadata": {},
   "source": [
    "#### Baekjoon 11382"
   ]
  },
  {
   "cell_type": "code",
   "execution_count": 33,
   "id": "d835fc76",
   "metadata": {},
   "outputs": [
    {
     "name": "stdout",
     "output_type": "stream",
     "text": [
      "6\n"
     ]
    }
   ],
   "source": [
    "a, b ,c = map(int, input().split()); print(a+b+c)"
   ]
  },
  {
   "cell_type": "markdown",
   "id": "2475119a",
   "metadata": {},
   "source": [
    "#### Baekjoon 10872"
   ]
  },
  {
   "cell_type": "code",
   "execution_count": 25,
   "id": "3a93afce",
   "metadata": {},
   "outputs": [
    {
     "name": "stdout",
     "output_type": "stream",
     "text": [
      "1\n"
     ]
    }
   ],
   "source": [
    "n = int(input())\n",
    "sum = 1\n",
    "# Factorial\n",
    "if n > 0:\n",
    "    for i in range(1, n+1):\n",
    "        sum *= i\n",
    "print(sum)"
   ]
  },
  {
   "cell_type": "markdown",
   "id": "e08a4bcc",
   "metadata": {},
   "source": [
    "#### Fibonacci Numbers"
   ]
  },
  {
   "cell_type": "code",
   "execution_count": 31,
   "id": "ae045af6",
   "metadata": {},
   "outputs": [
    {
     "name": "stdout",
     "output_type": "stream",
     "text": [
      "1\n"
     ]
    }
   ],
   "source": [
    "n = int(input())\n",
    "def fibo(n):\n",
    "    if n <= 1:\n",
    "        return n\n",
    "    return fibo(n-1) + fibo(n-2)\n",
    "print(fibo(n))"
   ]
  },
  {
   "cell_type": "markdown",
   "id": "4527f720",
   "metadata": {},
   "source": [
    "### Scissor"
   ]
  },
  {
   "cell_type": "code",
   "execution_count": null,
   "id": "231c5380",
   "metadata": {},
   "outputs": [],
   "source": [
    "def solution(M, N):\n",
    "    return (M*N) - 1"
   ]
  }
 ],
 "metadata": {
  "kernelspec": {
   "display_name": "Python 3",
   "language": "python",
   "name": "python3"
  },
  "language_info": {
   "codemirror_mode": {
    "name": "ipython",
    "version": 3
   },
   "file_extension": ".py",
   "mimetype": "text/x-python",
   "name": "python",
   "nbconvert_exporter": "python",
   "pygments_lexer": "ipython3",
   "version": "3.12.10"
  }
 },
 "nbformat": 4,
 "nbformat_minor": 5
}
