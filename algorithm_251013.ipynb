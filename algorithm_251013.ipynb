{
 "cells": [
  {
   "cell_type": "markdown",
   "id": "7bab0592",
   "metadata": {},
   "source": [
    "### Hanoi Tower Algorithm"
   ]
  },
  {
   "cell_type": "code",
   "execution_count": 61,
   "id": "cd893570",
   "metadata": {},
   "outputs": [],
   "source": [
    "def hanoi_tower_count(n):\n",
    "    return 2 ** n - 1"
   ]
  },
  {
   "cell_type": "code",
   "execution_count": 62,
   "id": "cbeadbd2",
   "metadata": {},
   "outputs": [
    {
     "data": {
      "text/plain": [
       "7"
      ]
     },
     "execution_count": 62,
     "metadata": {},
     "output_type": "execute_result"
    }
   ],
   "source": [
    "hanoi_tower_count(3)"
   ]
  },
  {
   "cell_type": "code",
   "execution_count": null,
   "id": "6b24f594",
   "metadata": {},
   "outputs": [],
   "source": [
    "# Recursive version (TO DO: Modify to show source and target)\n",
    "def hanoi_tower_rec(n):\n",
    "    if n == 1:\n",
    "        return print(\"1 -> 2\")\n",
    "    hanoi_tower_rec(n-1)\n",
    "    print(\"1 -> 3\")\n",
    "    hanoi_tower_rec(n-1)"
   ]
  },
  {
   "cell_type": "code",
   "execution_count": 53,
   "id": "b6c42bde",
   "metadata": {},
   "outputs": [
    {
     "name": "stdout",
     "output_type": "stream",
     "text": [
      "1 -> 2\n",
      "1 -> 3\n",
      "1 -> 2\n",
      "1 -> 3\n",
      "1 -> 2\n",
      "1 -> 3\n",
      "1 -> 2\n"
     ]
    }
   ],
   "source": [
    "hanoi_tower_rec(3)"
   ]
  },
  {
   "cell_type": "code",
   "execution_count": 58,
   "id": "15aa7d34",
   "metadata": {},
   "outputs": [],
   "source": [
    "def hanoi_tower(n, source, target, auxiliary):\n",
    "    if n == 1:\n",
    "        print(f\"Move disk 1 from {source} to {target}\")\n",
    "        return\n",
    "    hanoi_tower(n - 1, source, auxiliary, target)  # n-1개 원판 보조 기둥, 목적 기둥으로 번갈아 가며 이동\n",
    "    print(f\"Move disk {n} from {source} to {target}\")  # 가장 큰 원판 목적 기둥으로 이동\n",
    "    hanoi_tower(n - 1, auxiliary, target, source)  # 나머지 n-1개 보조 기둥에서 목적 기둥으로 이동"
   ]
  },
  {
   "cell_type": "code",
   "execution_count": null,
   "id": "45ded56f",
   "metadata": {},
   "outputs": [
    {
     "name": "stdout",
     "output_type": "stream",
     "text": [
      "Move disk 1 from A to C\n",
      "Move disk 2 from A to B\n",
      "Move disk 1 from C to B\n",
      "Move disk 3 from A to C\n",
      "Move disk 1 from B to A\n",
      "Move disk 2 from B to C\n",
      "Move disk 1 from A to C\n"
     ]
    }
   ],
   "source": [
    "hanoi_tower(3, 'A', 'C', 'B')"
   ]
  },
  {
   "cell_type": "code",
   "execution_count": null,
   "id": "85453dba",
   "metadata": {},
   "outputs": [],
   "source": []
  },
  {
   "cell_type": "markdown",
   "id": "0cce9092",
   "metadata": {},
   "source": [
    "### Turtle Graphic"
   ]
  },
  {
   "cell_type": "code",
   "execution_count": 64,
   "id": "fd809626",
   "metadata": {},
   "outputs": [],
   "source": [
    "import turtle as t"
   ]
  },
  {
   "cell_type": "code",
   "execution_count": 65,
   "id": "0e5c21b1",
   "metadata": {},
   "outputs": [],
   "source": [
    "def spiral(sp_len):\n",
    "    if sp_len <= 5:\n",
    "        return\n",
    "    t.forward(sp_len)\n",
    "    t.right(90)\n",
    "    spiral(sp_len - 5)\n",
    "    \n",
    "t.speed(0)\n",
    "spiral(200)\n",
    "t.hideturtle()\n",
    "t.done()"
   ]
  },
  {
   "cell_type": "code",
   "execution_count": null,
   "id": "e3e82c04",
   "metadata": {},
   "outputs": [],
   "source": []
  },
  {
   "cell_type": "markdown",
   "id": "4b00f40d",
   "metadata": {},
   "source": [
    "### Algorithm Practice One"
   ]
  },
  {
   "cell_type": "code",
   "execution_count": 4,
   "id": "96859198",
   "metadata": {},
   "outputs": [
    {
     "name": "stdout",
     "output_type": "stream",
     "text": [
      "7\n",
      "1 3\n",
      "1 2\n",
      "3 2\n",
      "1 3\n",
      "2 1\n",
      "2 3\n",
      "1 3\n"
     ]
    }
   ],
   "source": [
    "n = int(input())\n",
    "\n",
    "def hanoi(n):\n",
    "    print(2**n - 1)\n",
    "    def move(n, a, b, c):\n",
    "        if n == 1:\n",
    "            print(a, c)\n",
    "            return\n",
    "        move(n-1, a, c, b)\n",
    "        print(a, c)\n",
    "        move(n-1, b, a, c)\n",
    "    move(n, 1, 2, 3)\n",
    "hanoi(n)"
   ]
  },
  {
   "cell_type": "code",
   "execution_count": null,
   "id": "ce9c1e7b",
   "metadata": {},
   "outputs": [],
   "source": []
  },
  {
   "cell_type": "markdown",
   "id": "1080cc13",
   "metadata": {},
   "source": [
    "### Algorithm Practice Two (Palindrome)\n",
    "\n",
    "- 5\n",
    "- AAA\n",
    "- ABBA\n",
    "- ABABA\n",
    "- ABCA\n",
    "- PALINDROME"
   ]
  },
  {
   "cell_type": "code",
   "execution_count": 3,
   "id": "7eb013f9",
   "metadata": {},
   "outputs": [
    {
     "name": "stdout",
     "output_type": "stream",
     "text": [
      "1 2\n",
      "1 3\n",
      "1 3\n",
      "0 2\n",
      "0 1\n"
     ]
    }
   ],
   "source": [
    "n = int(input())\n",
    "\n",
    "def recursion(s, l, r):\n",
    "    global count\n",
    "    count += 1\n",
    "    if l >= r: return 1\n",
    "    elif s[l] != s[r]: return 0\n",
    "    else: return recursion(s, l+1, r-1)\n",
    "\n",
    "def isPalindrome(s):\n",
    "    return recursion(s, 0, len(s)-1)\n",
    "\n",
    "li = []\n",
    "for i in range(n): li.append(input())\n",
    "\n",
    "#print('ABBA:', isPalindrome('ABBA'))\n",
    "#print('ABC:', isPalindrome('ABC'))\n",
    "\n",
    "for s in li:\n",
    "    count = 0\n",
    "    print(isPalindrome(s), count)"
   ]
  },
  {
   "cell_type": "code",
   "execution_count": null,
   "id": "12b2297f",
   "metadata": {},
   "outputs": [],
   "source": []
  },
  {
   "cell_type": "code",
   "execution_count": null,
   "id": "991522d9",
   "metadata": {},
   "outputs": [],
   "source": []
  }
 ],
 "metadata": {
  "kernelspec": {
   "display_name": "Python 3",
   "language": "python",
   "name": "python3"
  },
  "language_info": {
   "codemirror_mode": {
    "name": "ipython",
    "version": 3
   },
   "file_extension": ".py",
   "mimetype": "text/x-python",
   "name": "python",
   "nbconvert_exporter": "python",
   "pygments_lexer": "ipython3",
   "version": "3.12.10"
  }
 },
 "nbformat": 4,
 "nbformat_minor": 5
}
