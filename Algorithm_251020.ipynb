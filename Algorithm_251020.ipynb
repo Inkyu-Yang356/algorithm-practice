{
 "cells": [
  {
   "cell_type": "code",
   "execution_count": null,
   "id": "d0b49a3f",
   "metadata": {},
   "outputs": [],
   "source": []
  },
  {
   "cell_type": "code",
   "execution_count": null,
   "id": "58d62bb6",
   "metadata": {},
   "outputs": [
    {
     "name": "stdout",
     "output_type": "stream",
     "text": [
      "Sorted data: [1, 2, 3, 4, 5, 6, 7, 8, 9, 10]\n"
     ]
    }
   ],
   "source": [
    "def find_min(a):\n",
    "    min = a[0]\n",
    "    for i in a:\n",
    "        if i < min:\n",
    "            min = i\n",
    "    return min\n",
    "\n",
    "def find_min_idx(a):\n",
    "    min_idx = 0\n",
    "    for i in range(1, len(a)):\n",
    "        if a[i] < a[min_idx]:\n",
    "            min_idx = i\n",
    "    return min_idx\n",
    "\n",
    "def sel_sort(a):\n",
    "    result = []\n",
    "    while a:\n",
    "        min_idx = find_min_idx(a)\n",
    "        value = a.pop(min_idx)\n",
    "        result.append(value)\n",
    "    return result\n",
    "\n",
    "if __name__ == \"__main__\":\n",
    "    data = [5, 3, 6, 2, 10, 1, 4, 9, 8, 7]\n",
    "    sorted_data = sel_sort(data)\n",
    "    print(\"Sorted data:\", sorted_data)"
   ]
  },
  {
   "cell_type": "code",
   "execution_count": 3,
   "id": "1c8eb2aa",
   "metadata": {},
   "outputs": [
    {
     "name": "stdout",
     "output_type": "stream",
     "text": [
      "Sorted data (recursive): [1, 2, 3, 4, 5, 6, 7, 8, 9, 10]\n"
     ]
    }
   ],
   "source": [
    "def sel_sort_recursive(a):\n",
    "    if not a:\n",
    "        return []\n",
    "    min_idx = find_min_idx(a)\n",
    "    value = a.pop(min_idx)\n",
    "    return [value] + sel_sort_recursive(a)\n",
    "\n",
    "if __name__ == \"__main__\":\n",
    "    data = [5, 3, 6, 2, 10, 1, 4, 9, 8, 7]\n",
    "    sorted_data = sel_sort_recursive(data)\n",
    "    print(\"Sorted data (recursive):\", sorted_data)"
   ]
  },
  {
   "cell_type": "code",
   "execution_count": 6,
   "id": "a7ea6bdd",
   "metadata": {},
   "outputs": [
    {
     "name": "stdout",
     "output_type": "stream",
     "text": [
      "Sorted data: [1, 2, 3, 4, 5]\n"
     ]
    }
   ],
   "source": [
    "def sel_sort(a):\n",
    "    n = len(a)\n",
    "    for i in range(0, n-1):\n",
    "        min_idx = i\n",
    "        for j in range(i+1, n):\n",
    "            if a[j] < a[min_idx]:\n",
    "                min_idx = j\n",
    "        a[i], a[min_idx] = a[min_idx], a[i]\n",
    "\n",
    "d = [2, 4, 5, 1, 3]\n",
    "sel_sort(d)\n",
    "print(\"Sorted data:\", d)"
   ]
  },
  {
   "cell_type": "code",
   "execution_count": 10,
   "id": "37f07f7f",
   "metadata": {},
   "outputs": [
    {
     "data": {
      "text/plain": [
       "2"
      ]
     },
     "execution_count": 10,
     "metadata": {},
     "output_type": "execute_result"
    }
   ],
   "source": [
    "a = [2, 4, 5, 1, 3]\n",
    "a[0]"
   ]
  },
  {
   "cell_type": "code",
   "execution_count": null,
   "id": "b6b3a0d7",
   "metadata": {},
   "outputs": [],
   "source": []
  },
  {
   "cell_type": "markdown",
   "id": "a9edca4d",
   "metadata": {},
   "source": [
    "### Insertion Sort"
   ]
  },
  {
   "cell_type": "code",
   "execution_count": 1,
   "id": "0b68d341",
   "metadata": {},
   "outputs": [
    {
     "name": "stdout",
     "output_type": "stream",
     "text": [
      "Sorted data: [1, 2, 3, 4, 5]\n"
     ]
    }
   ],
   "source": [
    "def find_ins_idx(r, v):\n",
    "    for i in range(len(r)):\n",
    "        if v < r[i]:\n",
    "            return i\n",
    "    return len(r)\n",
    "\n",
    "def ins_sort(a):\n",
    "    result = []\n",
    "    while a:\n",
    "        value = a.pop(0)\n",
    "        ins_idx = find_ins_idx(result, value)\n",
    "        result.insert(ins_idx, value)\n",
    "    return result\n",
    "\n",
    "d = [2, 4, 5, 1, 3]\n",
    "print(\"Sorted data:\", ins_sort(d))"
   ]
  },
  {
   "cell_type": "code",
   "execution_count": null,
   "id": "6d81be44",
   "metadata": {},
   "outputs": [
    {
     "name": "stdout",
     "output_type": "stream",
     "text": [
      "Sorted data: [1, 2, 3, 4, 5]\n"
     ]
    }
   ],
   "source": [
    "def ins_sort(a):\n",
    "    n = len(a)\n",
    "    for i in range(1, n):\n",
    "        key = a[i]\n",
    "        j = i - 1\n",
    "        while j >= 0 and a[j] > key:  # shift lower elements to the left\n",
    "            a[j + 1] = a[j]\n",
    "            j -= 1\n",
    "        a[j + 1] = key\n",
    "        \n",
    "d = [2, 4, 5, 1, 3]\n",
    "ins_sort(d)\n",
    "print(\"Sorted data:\", d)"
   ]
  },
  {
   "cell_type": "code",
   "execution_count": null,
   "id": "70d83afa",
   "metadata": {},
   "outputs": [],
   "source": []
  },
  {
   "cell_type": "markdown",
   "id": "15bdf48b",
   "metadata": {},
   "source": [
    "### Algorithm Practice 1"
   ]
  },
  {
   "cell_type": "code",
   "execution_count": 26,
   "id": "98c59648",
   "metadata": {},
   "outputs": [
    {
     "name": "stdout",
     "output_type": "stream",
     "text": [
      "[2, 3, 6]\n"
     ]
    }
   ],
   "source": [
    "def search_list(a, x):\n",
    "    n = len(a)\n",
    "    result = []\n",
    "    for i in range(0, n):\n",
    "        for j in range(0, len(x)):\n",
    "            if x[j] == a[i]:\n",
    "                result.append(i)\n",
    "                break\n",
    "    return result\n",
    "\n",
    "v = [17, 92, 18, 33, 58, 7, 33, 42]\n",
    "\n",
    "print(search_list(v, (18, 33)))  # Return the index of first value"
   ]
  },
  {
   "cell_type": "markdown",
   "id": "b8d5e6c9",
   "metadata": {},
   "source": [
    "### Algorithm Practice 2 (Ascending to Descending)"
   ]
  },
  {
   "cell_type": "code",
   "execution_count": 3,
   "id": "874ddbe7",
   "metadata": {},
   "outputs": [
    {
     "data": {
      "text/plain": [
       "[5, 4, 3, 2, 1]"
      ]
     },
     "execution_count": 3,
     "metadata": {},
     "output_type": "execute_result"
    }
   ],
   "source": [
    "def find_max_idx(a):\n",
    "    max_idx = 0\n",
    "    for i in range(1, len(a)):\n",
    "        if a[i] > a[max_idx]:\n",
    "            max_idx = i\n",
    "    return max_idx\n",
    "\n",
    "def sel_sort_recursive(a):\n",
    "    if not a:\n",
    "        return []\n",
    "    max_idx = find_max_idx(a)\n",
    "    value = a.pop(max_idx)\n",
    "    return [value] + sel_sort_recursive(a)\n",
    "\n",
    "d = [2, 4, 5, 1, 3]\n",
    "sel_sort_recursive(d)"
   ]
  },
  {
   "cell_type": "code",
   "execution_count": null,
   "id": "b891e167",
   "metadata": {},
   "outputs": [
    {
     "name": "stdout",
     "output_type": "stream",
     "text": [
      "Sorted data: [5, 4, 3, 2, 1]\n"
     ]
    }
   ],
   "source": [
    "def ins_sort(a):\n",
    "    n = len(a)\n",
    "    for i in range(1, n):\n",
    "        key = a[i]\n",
    "        j = i - 1\n",
    "        while j >= 0 and a[j] < key:  # shift higher elements to the left\n",
    "            a[j + 1] = a[j]\n",
    "            j -= 1\n",
    "        a[j + 1] = key\n",
    "        \n",
    "d = [2, 4, 5, 1, 3]\n",
    "ins_sort(d)\n",
    "print(\"Sorted data:\", d)"
   ]
  }
 ],
 "metadata": {
  "kernelspec": {
   "display_name": "Python 3",
   "language": "python",
   "name": "python3"
  },
  "language_info": {
   "codemirror_mode": {
    "name": "ipython",
    "version": 3
   },
   "file_extension": ".py",
   "mimetype": "text/x-python",
   "name": "python",
   "nbconvert_exporter": "python",
   "pygments_lexer": "ipython3",
   "version": "3.12.10"
  }
 },
 "nbformat": 4,
 "nbformat_minor": 5
}
