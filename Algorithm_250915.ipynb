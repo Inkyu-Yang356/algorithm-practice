{
 "cells": [
  {
   "cell_type": "code",
   "execution_count": 1,
   "id": "9db7a0b7",
   "metadata": {},
   "outputs": [],
   "source": [
    "import math\n",
    "def abs_sign(n):\n",
    "    if n >= 0:\n",
    "        return n\n",
    "    else:\n",
    "        return -n\n",
    "# 절댓값 계산은 입력 크기에 상관없이 일정한 시간이 걸리기 때문에 O(1)이다."
   ]
  },
  {
   "cell_type": "code",
   "execution_count": 2,
   "id": "b9467312",
   "metadata": {},
   "outputs": [],
   "source": [
    "def abs_square(n):\n",
    "    b = n*n\n",
    "    return math.sqrt(b)\n",
    "# 제곱 계산과 제곱근 계산은 입력 크기에 상관없이 일정한 시간이 걸리기 때문에 O(1)이다."
   ]
  },
  {
   "cell_type": "code",
   "execution_count": 3,
   "id": "fc41f382",
   "metadata": {},
   "outputs": [
    {
     "name": "stdout",
     "output_type": "stream",
     "text": [
      "5\n",
      "3\n",
      "\n",
      "5.0\n",
      "3.0\n"
     ]
    }
   ],
   "source": [
    "print(abs_sign(5))\n",
    "print(abs_sign(-3))\n",
    "print()\n",
    "print(abs_square(5))\n",
    "print(abs_square(-3))"
   ]
  },
  {
   "cell_type": "code",
   "execution_count": 4,
   "id": "2c7f1af7",
   "metadata": {},
   "outputs": [
    {
     "data": {
      "text/plain": [
       "4.0"
      ]
     },
     "execution_count": 4,
     "metadata": {},
     "output_type": "execute_result"
    }
   ],
   "source": [
    "def square_root(n):\n",
    "    return n**0.5\n",
    "# 제곱근 계산은 입력 크기에 상관없이 일정한 시간이 걸리기 때문에 O(1)이다.\n",
    "square_root(16)"
   ]
  },
  {
   "cell_type": "code",
   "execution_count": 5,
   "id": "325acd6b",
   "metadata": {},
   "outputs": [
    {
     "data": {
      "text/plain": [
       "55"
      ]
     },
     "execution_count": 5,
     "metadata": {},
     "output_type": "execute_result"
    }
   ],
   "source": [
    "def sum_n(n):\n",
    "    sum = 0\n",
    "    for i in range(1, n+1):\n",
    "        sum += i\n",
    "    return sum\n",
    "# n이 증가할수록 계산 시간이 증가하기 때문에 O(n)이다.\n",
    "\n",
    "sum_n(10)"
   ]
  },
  {
   "cell_type": "code",
   "execution_count": 6,
   "id": "3c0abe04",
   "metadata": {},
   "outputs": [
    {
     "data": {
      "text/plain": [
       "55"
      ]
     },
     "execution_count": 6,
     "metadata": {},
     "output_type": "execute_result"
    }
   ],
   "source": [
    "def sum_n1(n):\n",
    "    return n*(n+1)//2\n",
    "# n이 증가하더라도 계산 시간이 일정하기 때문에 O(1)이다.\n",
    "sum_n1(10)"
   ]
  },
  {
   "cell_type": "markdown",
   "id": "874293a3",
   "metadata": {},
   "source": [
    "### Algorithm Practice 1\n",
    "- if n = 10, 1^2 + 2^2 + 3^2 + ''' + 10^2 = 385"
   ]
  },
  {
   "cell_type": "code",
   "execution_count": 7,
   "id": "a7c0193b",
   "metadata": {},
   "outputs": [
    {
     "data": {
      "text/plain": [
       "385"
      ]
     },
     "execution_count": 7,
     "metadata": {},
     "output_type": "execute_result"
    }
   ],
   "source": [
    "def sum1(n):\n",
    "    sum = 0\n",
    "    for i in range(1, n+1):\n",
    "        sum += i**2\n",
    "    return sum\n",
    "# n이 증가할수록 계산 시간이 증가하기 때문에 O(n)이다.\n",
    "sum1(10)"
   ]
  },
  {
   "cell_type": "markdown",
   "id": "c96a4b63",
   "metadata": {},
   "source": [
    "### Algorithm Practice 2\n",
    "- Calculation Complexity of Algorithm Practice 1\n",
    "> O(n), increment n is time increment"
   ]
  },
  {
   "cell_type": "markdown",
   "id": "0a0e524e",
   "metadata": {},
   "source": [
    "### Algorithm Practice 3\n",
    "- Time Complexity of the following Algorithm instead of for loop\n",
    "$$\\sum_{i=1}^n i^2 = \\frac{n(n+1)(2n+1)}{6}$$\n",
    "\n",
    "> O(1)"
   ]
  },
  {
   "cell_type": "code",
   "execution_count": 8,
   "id": "ee19e922",
   "metadata": {},
   "outputs": [
    {
     "name": "stdout",
     "output_type": "stream",
     "text": [
      "385\n",
      "338350\n"
     ]
    }
   ],
   "source": [
    "def sum_sq(n):\n",
    "    return n*(n+1)*(2*n+1)//6\n",
    "# n이 증가하더라도 계산 시간이 일정하기 때문에 O(1)이다.\n",
    "\n",
    "print(sum_sq(10))\n",
    "print(sum_sq(100))\n"
   ]
  },
  {
   "cell_type": "code",
   "execution_count": null,
   "id": "e40f4f5b",
   "metadata": {},
   "outputs": [],
   "source": []
  }
 ],
 "metadata": {
  "kernelspec": {
   "display_name": "Python 3",
   "language": "python",
   "name": "python3"
  },
  "language_info": {
   "codemirror_mode": {
    "name": "ipython",
    "version": 3
   },
   "file_extension": ".py",
   "mimetype": "text/x-python",
   "name": "python",
   "nbconvert_exporter": "python",
   "pygments_lexer": "ipython3",
   "version": "3.12.10"
  }
 },
 "nbformat": 4,
 "nbformat_minor": 5
}
