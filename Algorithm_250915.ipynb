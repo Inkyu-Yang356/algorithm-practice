{
 "cells": [
  {
   "cell_type": "code",
   "execution_count": null,
   "id": "1ab6b1fd",
   "metadata": {},
   "outputs": [],
   "source": [
    "import math"
   ]
  },
  {
   "cell_type": "code",
   "execution_count": null,
   "id": "325acd6b",
   "metadata": {},
   "outputs": [],
   "source": [
    "def sum1(n):\n",
    "    sum = 0;\n",
    "    for i in range(1, n+1):\n",
    "        sum += (n*10+2)\n",
    "    return sum\n",
    "# n이 증가할수록 계산 시간이 증가하기 때문에 O(n)이다."
   ]
  },
  {
   "cell_type": "code",
   "execution_count": null,
   "id": "2c7f1af7",
   "metadata": {},
   "outputs": [],
   "source": []
  },
  {
   "cell_type": "code",
   "execution_count": null,
   "id": "e43375bb",
   "metadata": {},
   "outputs": [],
   "source": []
  }
 ],
 "metadata": {
  "kernelspec": {
   "display_name": "Python 3",
   "language": "python",
   "name": "python3"
  },
  "language_info": {
   "codemirror_mode": {
    "name": "ipython",
    "version": 3
   },
   "file_extension": ".py",
   "mimetype": "text/x-python",
   "name": "python",
   "nbconvert_exporter": "python",
   "pygments_lexer": "ipython3",
   "version": "3.12.10"
  }
 },
 "nbformat": 4,
 "nbformat_minor": 5
}
